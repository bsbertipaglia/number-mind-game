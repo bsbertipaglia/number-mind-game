{
  "nbformat": 4,
  "nbformat_minor": 0,
  "metadata": {
    "colab": {
      "provenance": [],
      "collapsed_sections": []
    },
    "kernelspec": {
      "name": "python3",
      "display_name": "Python 3"
    },
    "language_info": {
      "name": "python"
    }
  },
  "cells": [
    {
      "cell_type": "code",
      "execution_count": 1,
      "metadata": {
        "colab": {
          "base_uri": "https://localhost:8080/"
        },
        "id": "X9t7hE3dTPZm",
        "outputId": "bdf9adf0-459b-4197-d056-7632a6d2db1a"
      },
      "outputs": [
        {
          "output_type": "stream",
          "name": "stdout",
          "text": [
            "Looking in indexes: https://pypi.org/simple, https://us-python.pkg.dev/colab-wheels/public/simple/\n",
            "Collecting python-sat\n",
            "  Downloading python_sat-0.1.7.dev19-cp37-cp37m-manylinux2010_x86_64.whl (1.8 MB)\n",
            "\u001b[K     |████████████████████████████████| 1.8 MB 4.9 MB/s \n",
            "\u001b[?25hRequirement already satisfied: six in /usr/local/lib/python3.7/dist-packages (from python-sat) (1.15.0)\n",
            "Installing collected packages: python-sat\n",
            "Successfully installed python-sat-0.1.7.dev19\n"
          ]
        }
      ],
      "source": [
        "!pip install python-sat"
      ]
    },
    {
      "cell_type": "code",
      "source": [
        "import numpy as np\n",
        "from pysat.formula import CNF\n",
        "from itertools import combinations\n",
        "from pysat.solvers import Solver"
      ],
      "metadata": {
        "id": "ci-pVEgS__VK"
      },
      "execution_count": 2,
      "outputs": []
    },
    {
      "cell_type": "markdown",
      "source": [
        "# **Number Mind**"
      ],
      "metadata": {
        "id": "fQadtaZvVtFY"
      }
    },
    {
      "cell_type": "code",
      "source": [
        "# Set the number of digits of the secret sequence\n",
        "#---------------\n",
        "n = 5\n",
        "# CAN BE CHANGED\n",
        "#---------------\n",
        "\n",
        "# Create the CNF formula\n",
        "cnf = CNF()\n",
        "\n",
        "# Set the secret sequence:\n",
        "# generate a random sequence of n digits\n",
        "SecretSeq = np.random.randint(10, size=n)"
      ],
      "metadata": {
        "id": "XI9aVDT9eWVD"
      },
      "execution_count": 3,
      "outputs": []
    },
    {
      "cell_type": "markdown",
      "source": [
        "Problem definition:\n",
        "\n",
        "$x_{pd} =$ TRUE if in position $p$ there is digit $d$\n",
        "\n",
        "are boolean variables with two indeces."
      ],
      "metadata": {
        "id": "BOgwdNCG2Bpg"
      }
    },
    {
      "cell_type": "code",
      "source": [
        "# PySAT language uses variables with only one index:\n",
        "# define translating functions for translating variables\n",
        "# with two indeces into variables with one index\n",
        "\n",
        "def Index(p,d):\n",
        "  # it means that is true that the digit d=0,1,...,9 is\n",
        "  # in position p=0,1,...,n-1 of the sequence\n",
        "  return d + p*10 + 1\n",
        "\n",
        "def PositionDigit(i):\n",
        "  # the index i=1,...,n*10 means\n",
        "  # that in the position (ten/decina of the number i-1)\n",
        "  p = (i-1)//10\n",
        "  # there is the digit (unit/unità of the number i-1)\n",
        "  d = (i-1)%10\n",
        "  return p,d"
      ],
      "metadata": {
        "id": "cGGy2UKSXjgE"
      },
      "execution_count": 4,
      "outputs": []
    },
    {
      "cell_type": "markdown",
      "source": [
        "### **Domain clauses**\n",
        "Exactly 1 digit in each position:"
      ],
      "metadata": {
        "id": "HiHSfHUHLfj0"
      }
    },
    {
      "cell_type": "markdown",
      "source": [
        "**At least 1 digit in each position**  (number of possible digits $m=10$)\n",
        "\n",
        "$\\underset{|I|=m-k+1}{\\underset{I\\subseteq\\{0,1,...,m-1\\}}{\\bigwedge}} \\quad \\underset{i\\in I}{\\bigvee} \\quad Index(p,i) \\quad$ with $k=1 \\quad \\implies$ $\\underset{i\\in \\{0,1,...,9\\}}{\\bigvee} \\quad Index(p,i)$\n",
        "\n",
        "For every position $p\\in\\{0,...,n-1\\}$ the clause $Index(p,0)\\vee Index(p,1)\\vee...\\vee Index(p,9)$ is added to the CNF formula."
      ],
      "metadata": {
        "id": "A2bRB5yw_0sB"
      }
    },
    {
      "cell_type": "code",
      "source": [
        "for p in range(n):\n",
        "    # add clause to the CNF formula\n",
        "    cnf.append([Index(p,d) for d in range(10)])"
      ],
      "metadata": {
        "id": "gGlGIy7cWzlR"
      },
      "execution_count": 5,
      "outputs": []
    },
    {
      "cell_type": "markdown",
      "source": [
        "**At most 1 digit in each position** (number of possible digits $m=10$)\n",
        "\n",
        "$\\underset{|I|=k+1}{\\underset{I\\subseteq\\{0,1,...,m-1\\}}{\\bigwedge}} \\quad \\underset{i\\in I}{\\bigvee} \\quad \\neg\\, Index(p,i) \\quad$ with $k=1 \\quad \\implies$ $\\underset{|I|=2}{\\underset{I\\subseteq\\{0,1,...,9\\}}{\\bigwedge}} \\quad \\underset{i\\in I}{\\bigvee} \\quad \\neg\\, Index(p,i)$\n",
        "\n",
        "For every position $p\\in\\{0,...,n-1\\}$ the clauses $\\neg(\\,Index(p,digit1)\\wedge Index(p,digit2)\\,)$ are added to the CNF formula, for all $digit1,digit2\\in\\{0,...,9\\}$ such that $digit1\\lneqq digit2$."
      ],
      "metadata": {
        "id": "7GvIYwMCAIbM"
      }
    },
    {
      "cell_type": "code",
      "source": [
        "for p in range(n):\n",
        "    for d in range(10):\n",
        "        for d1 in range(d+1,10):\n",
        "            # add clause to the CNF formula\n",
        "            cnf.append([-Index(p,d),-Index(p,d1)])"
      ],
      "metadata": {
        "id": "_JZiALaQ_Oky"
      },
      "execution_count": 6,
      "outputs": []
    },
    {
      "cell_type": "markdown",
      "source": [
        "### **Solve**"
      ],
      "metadata": {
        "id": "eIwMlXccMexO"
      }
    },
    {
      "cell_type": "markdown",
      "source": [
        "At every iteration a sequence has to be guessed, considering the feedback on the correct digits of all the previous proposed solutions."
      ],
      "metadata": {
        "id": "rBJRMCrhMs5P"
      }
    },
    {
      "cell_type": "code",
      "source": [
        "# perform the following steps until the correct sequence is found\n",
        "while(True):\n",
        "  \n",
        "  # feed the solver with the input CNF formula\n",
        "  solver = Solver(bootstrap_with = cnf.clauses)\n",
        "  solver.solve()\n",
        "  # extract a satisfying assignment for the CNF formula given to the solver\n",
        "  Seq = solver.get_model()\n",
        "  # translate the sequence of indeces of length n*10 to a sequence of digits of length n\n",
        "  Seq = [PositionDigit(i)[1] for i in [Seq[j] for j in range(n*10) if Seq[j]>0]]\n",
        "\n",
        "  # initialize the \"number of correct guesses\" variable\n",
        "  k = 0\n",
        "  # count the number of correct guesses\n",
        "  for p in range(n):\n",
        "    if Seq[p] == SecretSeq[p]: k+=1\n",
        "\n",
        "  # break the while loop if the correct sequence is found\n",
        "  if k == n: break\n",
        "\n",
        "  # knowing that exactly k digits of the guessed sequence are in the correct position,\n",
        "  # all the possible combinations of EXACTLY k correct digits of the guessed sequence\n",
        "  # (tuples with position and digit) are added as clauses to the CNF formula\n",
        "\n",
        "  # at least k\n",
        "  ss = combinations(enumerate(Seq), n - k + 1)\n",
        "  for s in ss: cnf.append([Index(*pd) for pd in s])\n",
        "  # at most k\n",
        "  ss = combinations(enumerate(Seq), k + 1)\n",
        "  for s in ss: cnf.append([-Index(*pd) for pd in s])"
      ],
      "metadata": {
        "id": "9w8PkSNdIPwk"
      },
      "execution_count": 7,
      "outputs": []
    },
    {
      "cell_type": "markdown",
      "source": [
        "At every iteration, knowing that exactly $k$ digits of the guessed sequence are in the correct position, the following clauses are added to the CNF formula, where $S$ is the set of each possible subsequence of the guessed sequence, sequence written as tuples (position, digit).\n",
        "\n",
        "**At least $k$ correct digits in the correct position**\n",
        "\n",
        "$\\underset{|s|=n-k+1}{\\underset{s\\subseteq S}{\\bigwedge}} \\quad \\underset{(p_s,d_s)\\in s}{\\bigvee} \\quad Index(p_s,d_s) \\quad$\n",
        "\n",
        "**At most $k$ correct digits in the correct position**\n",
        "\n",
        "$\\underset{|s|=k+1}{\\underset{s\\subseteq S}{\\bigwedge}} \\quad \\underset{(p_s,d_s)\\in s}{\\bigvee} \\quad \\neg Index(p_s,d_s) \\quad$"
      ],
      "metadata": {
        "id": "ujakwmfnYNk6"
      }
    },
    {
      "cell_type": "code",
      "source": [
        "print(\"Secret sequence:  \", SecretSeq)\n",
        "print(\"Guessed sequence: \", np.array(Seq))"
      ],
      "metadata": {
        "colab": {
          "base_uri": "https://localhost:8080/"
        },
        "id": "h0-Ec1q1g-JU",
        "outputId": "3b3fe44c-04e8-412b-aeb8-5f81ba462586"
      },
      "execution_count": 8,
      "outputs": [
        {
          "output_type": "stream",
          "name": "stdout",
          "text": [
            "Secret sequence:   [5 3 6 2 9]\n",
            "Guessed sequence:  [5 3 6 2 9]\n"
          ]
        }
      ]
    }
  ]
}